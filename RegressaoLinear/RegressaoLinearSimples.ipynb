{
  "nbformat": 4,
  "nbformat_minor": 0,
  "metadata": {
    "colab": {
      "name": "RegressaoLinearSimples.ipynb",
      "provenance": []
    },
    "kernelspec": {
      "name": "python3",
      "display_name": "Python 3"
    }
  },
  "cells": [
    {
      "cell_type": "markdown",
      "metadata": {
        "id": "hpOzm23Rmnpy"
      },
      "source": [
        "# Regressão Linear Simples\n",
        "\n",
        "Nesse script aprenderemos a usar a biblioteca scikit-learn para implementar um modelo de regressão linear simples. Para isso iremos utilizar um conjunto de dados relacionado ao consumo de combustível e a emissão de dióxido de carbono dos carros. Então, dividiremos nossos dados em conjuntos de treinamento e teste, criaremos um modelo usando o conjunto de treinamento e o avaliaremos usando o conjunto de testes. Por fim, usaremos nosso modelo para predizer a emissão de dióxido de carbono em novos dados.\n",
        "\n",
        "### Objetivos\n",
        "\n",
        "\n",
        "- Usar a biblioteca sckit-learn para implementar um modelo de regressão linear simples;\n",
        "\n",
        "- Criar, treinar, testar e usar o modelo."
      ]
    },
    {
      "cell_type": "markdown",
      "metadata": {
        "id": "1K8U6_f6oyOy"
      },
      "source": [
        "# Bibliotecas\n",
        "\n",
        "Nós vamos utilizar as seguintes bibliotecas:\n",
        "\n",
        "- [matplotlib](https://matplotlib.org/stable/users/history.html) para desenvolver plots no python;\n",
        "- [pandas](https://pandas.pydata.org/docs/) fornece ferramentas para analisar dados no python;\n",
        "- [numpy](https://numpy.org/) oferece diversas funções matemáticas e processamento vetorizado."
      ]
    },
    {
      "cell_type": "code",
      "metadata": {
        "id": "qUOcbBuveC9e"
      },
      "source": [
        "# importando bibliotecas\n",
        "import matplotlib.pyplot as plt\n",
        "import pandas as pd\n",
        "import numpy as np\n",
        "\n",
        "%matplotlib inline"
      ],
      "execution_count": 1,
      "outputs": []
    },
    {
      "cell_type": "code",
      "metadata": {
        "colab": {
          "base_uri": "https://localhost:8080/"
        },
        "id": "yq44Ahj2ewTd",
        "outputId": "7466dd68-6ed6-4922-a4f2-3cf9a469777d"
      },
      "source": [
        "# baixando os dados\n",
        "!wget -O FuelConsumption.csv https://cf-courses-data.s3.us.cloud-object-storage.appdomain.cloud/IBMDeveloperSkillsNetwork-ML0101EN-SkillsNetwork/labs/Module%202/data/FuelConsumptionCo2.csv"
      ],
      "execution_count": 2,
      "outputs": [
        {
          "output_type": "stream",
          "text": [
            "--2021-03-07 16:18:04--  https://cf-courses-data.s3.us.cloud-object-storage.appdomain.cloud/IBMDeveloperSkillsNetwork-ML0101EN-SkillsNetwork/labs/Module%202/data/FuelConsumptionCo2.csv\n",
            "Resolving cf-courses-data.s3.us.cloud-object-storage.appdomain.cloud (cf-courses-data.s3.us.cloud-object-storage.appdomain.cloud)... 169.45.118.108\n",
            "Connecting to cf-courses-data.s3.us.cloud-object-storage.appdomain.cloud (cf-courses-data.s3.us.cloud-object-storage.appdomain.cloud)|169.45.118.108|:443... connected.\n",
            "HTTP request sent, awaiting response... 200 OK\n",
            "Length: 72629 (71K) [text/csv]\n",
            "Saving to: ‘FuelConsumption.csv’\n",
            "\n",
            "FuelConsumption.csv 100%[===================>]  70.93K  --.-KB/s    in 0.1s    \n",
            "\n",
            "2021-03-07 16:18:05 (658 KB/s) - ‘FuelConsumption.csv’ saved [72629/72629]\n",
            "\n"
          ],
          "name": "stdout"
        }
      ]
    },
    {
      "cell_type": "markdown",
      "metadata": {
        "id": "t7WCnLktrp3c"
      },
      "source": [
        "### Entendendo os dados\n",
        "\n",
        "Acabamos de baixar o conjunto de dados de consumo de combustível, FuelConsumption.csv, que contém as taxas de consumo de combustível e o valor estimado de emissão de dióxido de carbono de veículos leves a venda no Canadá. Para mais informações, [clique aqui](https://open.canada.ca/data/en/dataset/98f1a129-f628-4ce4-b24d-6f16bf24dd64?cm_mmc=Email_Newsletter-_-Developer_Ed%2BTech-_-WW_WW-_-SkillsNetwork-Courses-IBMDeveloperSkillsNetwork-ML0101EN-SkillsNetwork-20718538&cm_mmca1=000026UJ&cm_mmca2=10006555&cm_mmca3=M12345678&cvosrc=email.Newsletter.M12345678&cvo_campaign=000026UJ&cm_mmc=Email_Newsletter-_-Developer_Ed%2BTech-_-WW_WW-_-SkillsNetwork-Courses-IBMDeveloperSkillsNetwork-ML0101EN-SkillsNetwork-20718538&cm_mmca1=000026UJ&cm_mmca2=10006555&cm_mmca3=M12345678&cvosrc=email.Newsletter.M12345678&cvo_campaign=000026UJ&cm_mmc=Email_Newsletter-_-Developer_Ed%2BTech-_-WW_WW-_-SkillsNetwork-Courses-IBMDeveloperSkillsNetwork-ML0101EN-SkillsNetwork-20718538&cm_mmca1=000026UJ&cm_mmca2=10006555&cm_mmca3=M12345678&cvosrc=email.Newsletter.M12345678&cvo_campaign=000026UJ&cm_mmc=Email_Newsletter-_-Developer_Ed%2BTech-_-WW_WW-_-SkillsNetwork-Courses-IBMDeveloperSkillsNetwork-ML0101EN-SkillsNetwork-20718538&cm_mmca1=000026UJ&cm_mmca2=10006555&cm_mmca3=M12345678&cvosrc=email.Newsletter.M12345678&cvo_campaign=000026UJ).\n",
        "\n",
        "Abaixo temos as colunas do nosso conjunto de dados e exemplos dos seus valores:\n",
        "\n",
        "-   **MODELYEAR** e.g. 2014\n",
        "-   **MAKE** e.g. Acura\n",
        "-   **MODEL** e.g. ILX\n",
        "-   **VEHICLE CLASS** e.g. SUV\n",
        "-   **ENGINE SIZE** e.g. 4.7\n",
        "-   **CYLINDERS** e.g 6\n",
        "-   **TRANSMISSION** e.g. A6\n",
        "-   **FUEL CONSUMPTION in CITY(L/100 km)** e.g. 9.9\n",
        "-   **FUEL CONSUMPTION in HWY (L/100 km)** e.g. 8.9\n",
        "-   **FUEL CONSUMPTION COMB (L/100 km)** e.g. 9.2\n",
        "-   **CO2 EMISSIONS (g/km)** e.g. 182   --> low --> 0"
      ]
    },
    {
      "cell_type": "markdown",
      "metadata": {
        "id": "uYQ45bXVw_G6"
      },
      "source": [
        "# Dados\n",
        "\n",
        "Vamos utilizar a biblioteca pandas para ler nosso csv com o método *read_csv()*:"
      ]
    },
    {
      "cell_type": "code",
      "metadata": {
        "colab": {
          "base_uri": "https://localhost:8080/",
          "height": 260
        },
        "id": "UVUcSZPKez6W",
        "outputId": "ca44dc7a-193d-4a40-83b3-275743a9ae12"
      },
      "source": [
        "# lendo dados\n",
        "df = pd.read_csv('FuelConsumption.csv')\n",
        "\n",
        "# visualizando 5 primeiras linhas\n",
        "df.head()"
      ],
      "execution_count": 3,
      "outputs": [
        {
          "output_type": "execute_result",
          "data": {
            "text/html": [
              "<div>\n",
              "<style scoped>\n",
              "    .dataframe tbody tr th:only-of-type {\n",
              "        vertical-align: middle;\n",
              "    }\n",
              "\n",
              "    .dataframe tbody tr th {\n",
              "        vertical-align: top;\n",
              "    }\n",
              "\n",
              "    .dataframe thead th {\n",
              "        text-align: right;\n",
              "    }\n",
              "</style>\n",
              "<table border=\"1\" class=\"dataframe\">\n",
              "  <thead>\n",
              "    <tr style=\"text-align: right;\">\n",
              "      <th></th>\n",
              "      <th>MODELYEAR</th>\n",
              "      <th>MAKE</th>\n",
              "      <th>MODEL</th>\n",
              "      <th>VEHICLECLASS</th>\n",
              "      <th>ENGINESIZE</th>\n",
              "      <th>CYLINDERS</th>\n",
              "      <th>TRANSMISSION</th>\n",
              "      <th>FUELTYPE</th>\n",
              "      <th>FUELCONSUMPTION_CITY</th>\n",
              "      <th>FUELCONSUMPTION_HWY</th>\n",
              "      <th>FUELCONSUMPTION_COMB</th>\n",
              "      <th>FUELCONSUMPTION_COMB_MPG</th>\n",
              "      <th>CO2EMISSIONS</th>\n",
              "    </tr>\n",
              "  </thead>\n",
              "  <tbody>\n",
              "    <tr>\n",
              "      <th>0</th>\n",
              "      <td>2014</td>\n",
              "      <td>ACURA</td>\n",
              "      <td>ILX</td>\n",
              "      <td>COMPACT</td>\n",
              "      <td>2.0</td>\n",
              "      <td>4</td>\n",
              "      <td>AS5</td>\n",
              "      <td>Z</td>\n",
              "      <td>9.9</td>\n",
              "      <td>6.7</td>\n",
              "      <td>8.5</td>\n",
              "      <td>33</td>\n",
              "      <td>196</td>\n",
              "    </tr>\n",
              "    <tr>\n",
              "      <th>1</th>\n",
              "      <td>2014</td>\n",
              "      <td>ACURA</td>\n",
              "      <td>ILX</td>\n",
              "      <td>COMPACT</td>\n",
              "      <td>2.4</td>\n",
              "      <td>4</td>\n",
              "      <td>M6</td>\n",
              "      <td>Z</td>\n",
              "      <td>11.2</td>\n",
              "      <td>7.7</td>\n",
              "      <td>9.6</td>\n",
              "      <td>29</td>\n",
              "      <td>221</td>\n",
              "    </tr>\n",
              "    <tr>\n",
              "      <th>2</th>\n",
              "      <td>2014</td>\n",
              "      <td>ACURA</td>\n",
              "      <td>ILX HYBRID</td>\n",
              "      <td>COMPACT</td>\n",
              "      <td>1.5</td>\n",
              "      <td>4</td>\n",
              "      <td>AV7</td>\n",
              "      <td>Z</td>\n",
              "      <td>6.0</td>\n",
              "      <td>5.8</td>\n",
              "      <td>5.9</td>\n",
              "      <td>48</td>\n",
              "      <td>136</td>\n",
              "    </tr>\n",
              "    <tr>\n",
              "      <th>3</th>\n",
              "      <td>2014</td>\n",
              "      <td>ACURA</td>\n",
              "      <td>MDX 4WD</td>\n",
              "      <td>SUV - SMALL</td>\n",
              "      <td>3.5</td>\n",
              "      <td>6</td>\n",
              "      <td>AS6</td>\n",
              "      <td>Z</td>\n",
              "      <td>12.7</td>\n",
              "      <td>9.1</td>\n",
              "      <td>11.1</td>\n",
              "      <td>25</td>\n",
              "      <td>255</td>\n",
              "    </tr>\n",
              "    <tr>\n",
              "      <th>4</th>\n",
              "      <td>2014</td>\n",
              "      <td>ACURA</td>\n",
              "      <td>RDX AWD</td>\n",
              "      <td>SUV - SMALL</td>\n",
              "      <td>3.5</td>\n",
              "      <td>6</td>\n",
              "      <td>AS6</td>\n",
              "      <td>Z</td>\n",
              "      <td>12.1</td>\n",
              "      <td>8.7</td>\n",
              "      <td>10.6</td>\n",
              "      <td>27</td>\n",
              "      <td>244</td>\n",
              "    </tr>\n",
              "  </tbody>\n",
              "</table>\n",
              "</div>"
            ],
            "text/plain": [
              "   MODELYEAR   MAKE  ... FUELCONSUMPTION_COMB_MPG CO2EMISSIONS\n",
              "0       2014  ACURA  ...                       33          196\n",
              "1       2014  ACURA  ...                       29          221\n",
              "2       2014  ACURA  ...                       48          136\n",
              "3       2014  ACURA  ...                       25          255\n",
              "4       2014  ACURA  ...                       27          244\n",
              "\n",
              "[5 rows x 13 columns]"
            ]
          },
          "metadata": {
            "tags": []
          },
          "execution_count": 3
        }
      ]
    },
    {
      "cell_type": "code",
      "metadata": {
        "colab": {
          "base_uri": "https://localhost:8080/",
          "height": 277
        },
        "id": "6F5KO0fte97t",
        "outputId": "b207d409-4740-4936-cd5d-fbb9e79a84f4"
      },
      "source": [
        "# visualizando uma descrição estatistica dos dados\n",
        "df.describe()"
      ],
      "execution_count": 4,
      "outputs": [
        {
          "output_type": "execute_result",
          "data": {
            "text/html": [
              "<div>\n",
              "<style scoped>\n",
              "    .dataframe tbody tr th:only-of-type {\n",
              "        vertical-align: middle;\n",
              "    }\n",
              "\n",
              "    .dataframe tbody tr th {\n",
              "        vertical-align: top;\n",
              "    }\n",
              "\n",
              "    .dataframe thead th {\n",
              "        text-align: right;\n",
              "    }\n",
              "</style>\n",
              "<table border=\"1\" class=\"dataframe\">\n",
              "  <thead>\n",
              "    <tr style=\"text-align: right;\">\n",
              "      <th></th>\n",
              "      <th>MODELYEAR</th>\n",
              "      <th>ENGINESIZE</th>\n",
              "      <th>CYLINDERS</th>\n",
              "      <th>FUELCONSUMPTION_CITY</th>\n",
              "      <th>FUELCONSUMPTION_HWY</th>\n",
              "      <th>FUELCONSUMPTION_COMB</th>\n",
              "      <th>FUELCONSUMPTION_COMB_MPG</th>\n",
              "      <th>CO2EMISSIONS</th>\n",
              "    </tr>\n",
              "  </thead>\n",
              "  <tbody>\n",
              "    <tr>\n",
              "      <th>count</th>\n",
              "      <td>1067.0</td>\n",
              "      <td>1067.000000</td>\n",
              "      <td>1067.000000</td>\n",
              "      <td>1067.000000</td>\n",
              "      <td>1067.000000</td>\n",
              "      <td>1067.000000</td>\n",
              "      <td>1067.000000</td>\n",
              "      <td>1067.000000</td>\n",
              "    </tr>\n",
              "    <tr>\n",
              "      <th>mean</th>\n",
              "      <td>2014.0</td>\n",
              "      <td>3.346298</td>\n",
              "      <td>5.794752</td>\n",
              "      <td>13.296532</td>\n",
              "      <td>9.474602</td>\n",
              "      <td>11.580881</td>\n",
              "      <td>26.441425</td>\n",
              "      <td>256.228679</td>\n",
              "    </tr>\n",
              "    <tr>\n",
              "      <th>std</th>\n",
              "      <td>0.0</td>\n",
              "      <td>1.415895</td>\n",
              "      <td>1.797447</td>\n",
              "      <td>4.101253</td>\n",
              "      <td>2.794510</td>\n",
              "      <td>3.485595</td>\n",
              "      <td>7.468702</td>\n",
              "      <td>63.372304</td>\n",
              "    </tr>\n",
              "    <tr>\n",
              "      <th>min</th>\n",
              "      <td>2014.0</td>\n",
              "      <td>1.000000</td>\n",
              "      <td>3.000000</td>\n",
              "      <td>4.600000</td>\n",
              "      <td>4.900000</td>\n",
              "      <td>4.700000</td>\n",
              "      <td>11.000000</td>\n",
              "      <td>108.000000</td>\n",
              "    </tr>\n",
              "    <tr>\n",
              "      <th>25%</th>\n",
              "      <td>2014.0</td>\n",
              "      <td>2.000000</td>\n",
              "      <td>4.000000</td>\n",
              "      <td>10.250000</td>\n",
              "      <td>7.500000</td>\n",
              "      <td>9.000000</td>\n",
              "      <td>21.000000</td>\n",
              "      <td>207.000000</td>\n",
              "    </tr>\n",
              "    <tr>\n",
              "      <th>50%</th>\n",
              "      <td>2014.0</td>\n",
              "      <td>3.400000</td>\n",
              "      <td>6.000000</td>\n",
              "      <td>12.600000</td>\n",
              "      <td>8.800000</td>\n",
              "      <td>10.900000</td>\n",
              "      <td>26.000000</td>\n",
              "      <td>251.000000</td>\n",
              "    </tr>\n",
              "    <tr>\n",
              "      <th>75%</th>\n",
              "      <td>2014.0</td>\n",
              "      <td>4.300000</td>\n",
              "      <td>8.000000</td>\n",
              "      <td>15.550000</td>\n",
              "      <td>10.850000</td>\n",
              "      <td>13.350000</td>\n",
              "      <td>31.000000</td>\n",
              "      <td>294.000000</td>\n",
              "    </tr>\n",
              "    <tr>\n",
              "      <th>max</th>\n",
              "      <td>2014.0</td>\n",
              "      <td>8.400000</td>\n",
              "      <td>12.000000</td>\n",
              "      <td>30.200000</td>\n",
              "      <td>20.500000</td>\n",
              "      <td>25.800000</td>\n",
              "      <td>60.000000</td>\n",
              "      <td>488.000000</td>\n",
              "    </tr>\n",
              "  </tbody>\n",
              "</table>\n",
              "</div>"
            ],
            "text/plain": [
              "       MODELYEAR   ENGINESIZE  ...  FUELCONSUMPTION_COMB_MPG  CO2EMISSIONS\n",
              "count     1067.0  1067.000000  ...               1067.000000   1067.000000\n",
              "mean      2014.0     3.346298  ...                 26.441425    256.228679\n",
              "std          0.0     1.415895  ...                  7.468702     63.372304\n",
              "min       2014.0     1.000000  ...                 11.000000    108.000000\n",
              "25%       2014.0     2.000000  ...                 21.000000    207.000000\n",
              "50%       2014.0     3.400000  ...                 26.000000    251.000000\n",
              "75%       2014.0     4.300000  ...                 31.000000    294.000000\n",
              "max       2014.0     8.400000  ...                 60.000000    488.000000\n",
              "\n",
              "[8 rows x 8 columns]"
            ]
          },
          "metadata": {
            "tags": []
          },
          "execution_count": 4
        }
      ]
    },
    {
      "cell_type": "markdown",
      "metadata": {
        "id": "TJIE9JsNxWhP"
      },
      "source": [
        "Agora vamos recolher algumas colunas interessantes para o desenvolvimento do nosso estudo:"
      ]
    },
    {
      "cell_type": "code",
      "metadata": {
        "id": "i7x458MHfCsv"
      },
      "source": [
        "# selecionando caracteristcas de interesse \n",
        "features = df[['ENGINESIZE', 'CYLINDERS', 'FUELCONSUMPTION_COMB', 'CO2EMISSIONS']]"
      ],
      "execution_count": 5,
      "outputs": []
    },
    {
      "cell_type": "code",
      "metadata": {
        "colab": {
          "base_uri": "https://localhost:8080/",
          "height": 281
        },
        "id": "RUHlmZadfbrQ",
        "outputId": "16b50728-911f-4833-a902-8d821583fcd5"
      },
      "source": [
        "# visualizando distribuicao das caracteristicas\n",
        "plot = features[['ENGINESIZE', 'CYLINDERS', 'FUELCONSUMPTION_COMB', 'CO2EMISSIONS']]\n",
        "plot.hist()\n",
        "plt.show()"
      ],
      "execution_count": 23,
      "outputs": [
        {
          "output_type": "display_data",
          "data": {
            "image/png": "[encoded data removed]",
            "text/plain": [
              "<Figure size 432x288 with 4 Axes>"
            ]
          },
          "metadata": {
            "tags": [],
            "needs_background": "light"
          }
        }
      ]
    },
    {
      "cell_type": "markdown",
      "metadata": {
        "id": "MwIpfN_Mx9jl"
      },
      "source": [
        "Vamos explorar a relação do tamanho do motor (ENGINESIZE), quantidade de cilindros (CYLINDERS) e consumo de combustível (FUELCONSUMPTION_COMB), com a emissão de dióxido de carbono (CO2EMISSIONS)."
      ]
    },
    {
      "cell_type": "code",
      "metadata": {
        "colab": {
          "base_uri": "https://localhost:8080/",
          "height": 281
        },
        "id": "6neJXc7tf0Hd",
        "outputId": "acfd8631-55ca-4fc2-90ac-9db03ad01272"
      },
      "source": [
        "# visualizando relação entre FUELCONSUMPTION_COMB e CO2EMISSION\n",
        "plt.scatter(features.FUELCONSUMPTION_COMB, features.CO2EMISSIONS, color = 'blue')\n",
        "plt.xlabel('FUELCONSUMPTION_COMB')\n",
        "plt.ylabel('Emission')\n",
        "plt.show()"
      ],
      "execution_count": 8,
      "outputs": [
        {
          "output_type": "display_data",
          "data": {
            "image/png": "[encoded data removed]",
            "text/plain": [
              "<Figure size 432x288 with 1 Axes>"
            ]
          },
          "metadata": {
            "tags": [],
            "needs_background": "light"
          }
        }
      ]
    },
    {
      "cell_type": "code",
      "metadata": {
        "colab": {
          "base_uri": "https://localhost:8080/",
          "height": 280
        },
        "id": "17rwzcn1gPVv",
        "outputId": "c8eeddd2-9fc8-4183-e165-33e72a92cde4"
      },
      "source": [
        "# visualizando relação entre ENGINESIZE e CO2EMISSION\n",
        "plt.scatter(features.ENGINESIZE, features.CO2EMISSIONS, color = 'blue')\n",
        "plt.xlabel('ENGINESIZE')\n",
        "plt.ylabel('Emission')\n",
        "plt.show()"
      ],
      "execution_count": 9,
      "outputs": [
        {
          "output_type": "display_data",
          "data": {
            "image/png": "[encoded data removed]",
            "text/plain": [
              "<Figure size 432x288 with 1 Axes>"
            ]
          },
          "metadata": {
            "tags": [],
            "needs_background": "light"
          }
        }
      ]
    },
    {
      "cell_type": "code",
      "metadata": {
        "colab": {
          "base_uri": "https://localhost:8080/",
          "height": 280
        },
        "id": "LWth8E3ijT6U",
        "outputId": "d2ec7d76-c4bb-4acb-dc8f-9e7ef0e67198"
      },
      "source": [
        "# visualizando relação entre CYLINDERS e CO2EMISSION\n",
        "plt.scatter(features.CYLINDERS, features.CO2EMISSIONS, color = 'blue')\n",
        "plt.xlabel('CYLINDERS')\n",
        "plt.ylabel('Emission')\n",
        "plt.show()"
      ],
      "execution_count": 10,
      "outputs": [
        {
          "output_type": "display_data",
          "data": {
            "image/png": "[encoded data removed]",
            "text/plain": [
              "<Figure size 432x288 with 1 Axes>"
            ]
          },
          "metadata": {
            "tags": [],
            "needs_background": "light"
          }
        }
      ]
    },
    {
      "cell_type": "markdown",
      "metadata": {
        "id": "pzu5B75S-tXv"
      },
      "source": [
        "# Treino e Teste\n",
        "\n",
        "É preferível que os dados que usarmos para testar nosso modelo não sejam os mesmos dados utilizados para o treinamento. Para satisfazer isso, iremos criar um conjunto de dados de treinamento, *train*, e um conjunto de dados de teste, *test*. Isso irá garantir uma avaliação mais acurada do nosso modelo, pois o conjunto de testes não faz parte dos dados utilizados para treiná-lo. \n",
        "\n",
        "Como já sabemos os resultados da emissão de combustível nos dados de teste e eles são desconhecidos para nosso algortimo, isso se torna uma ótima maneira de testar nosso modelo!\n",
        "\n",
        "Vamos dividir nossos dados com as seguintes proporções: 80% dos dados para o treinamento e 20% para teste. (Por que não utitlizar 50% / 50%? Essa vou deixar você pensar. Para te ajudar, pense em uma criança... quanto mais conhecimento ela adquire, mais inteligente ela fica! Nosso modelo não é diferente.)\n",
        "\n",
        "Para dividir nossos dados vamos utilizar o método *np.random.rand()* que irá gerar números aleatórios que serão utilizados para recolher os dados a partir dos índices."
      ]
    },
    {
      "cell_type": "code",
      "metadata": {
        "id": "-TbU8zIKjbGE"
      },
      "source": [
        "# selecionando indices aleatorios dos dados\n",
        "split = np.random.rand(len(df)) < 0.8\n",
        "train = features[split]\n",
        "test = features[~split]"
      ],
      "execution_count": 11,
      "outputs": []
    },
    {
      "cell_type": "code",
      "metadata": {
        "colab": {
          "base_uri": "https://localhost:8080/",
          "height": 280
        },
        "id": "YxE0CLUkj4SY",
        "outputId": "3fbe44e0-1617-4557-b82c-4f3b311cce43"
      },
      "source": [
        "# distribuição dos dados de treinamento apos divisão\n",
        "plt.scatter(train.ENGINESIZE, train.CO2EMISSIONS, color = 'blue')\n",
        "plt.xlabel('ENGINESIZE')\n",
        "plt.ylabel('Emission')\n",
        "plt.show()"
      ],
      "execution_count": 12,
      "outputs": [
        {
          "output_type": "display_data",
          "data": {
            "image/png": "[encoded data removed]",
            "text/plain": [
              "<Figure size 432x288 with 1 Axes>"
            ]
          },
          "metadata": {
            "tags": [],
            "needs_background": "light"
          }
        }
      ]
    },
    {
      "cell_type": "markdown",
      "metadata": {
        "id": "PxHx9iPIyw19"
      },
      "source": [
        "# Modelo de Regressão Simples\n",
        "\n",
        "As técnicas de regressão consistem no processo de predizer um valor em um intervalo contínuo. Dessa forma, elas relacionam um valor $Y$, uma variável dependente, a uma função de $X$, uma variável independente:\n",
        "\n",
        ">    $Y$ = $Xa + b$\n",
        "\n",
        "A regressão tenta minimizar o erro associado aos valores preditos, $Ŷ$ e os valores reais. Logo, o objetivo é encontrar valores de a, *coef*, e b, *intercept*, tal qual esse erro seja mínimo.\n",
        "\n",
        "Para esclarecer um pouco mais, no contexto da regressão o **erro** de um modelo é a diferença entre os dados reais e as predições da reta gerada pelo modelo. \n"
      ]
    },
    {
      "cell_type": "markdown",
      "metadata": {
        "id": "nxnlyprKIyV1"
      },
      "source": [
        "# Modelo\n",
        "\n",
        "Agora vamos utilizar a biblioteca sklearn para modelar nossos dados e encontrar os valores de *a* (coef) e *b* (intercept):"
      ]
    },
    {
      "cell_type": "code",
      "metadata": {
        "id": "d0W-wbfqkDIj"
      },
      "source": [
        "from sklearn import linear_model\n",
        "\n",
        "# criando objeto \n",
        "regr = linear_model.LinearRegression()"
      ],
      "execution_count": 13,
      "outputs": []
    },
    {
      "cell_type": "code",
      "metadata": {
        "id": "_LfaAWe6kPW2"
      },
      "source": [
        "# escolhendo ENGINESIZE como variavel independente\n",
        "train_x = np.asanyarray(train[['ENGINESIZE']])\n",
        "\n",
        "# escolhendo CO2EMISSIONS como variavel dependente\n",
        "train_y = np.asanyarray(train[['CO2EMISSIONS']])"
      ],
      "execution_count": 14,
      "outputs": []
    },
    {
      "cell_type": "code",
      "metadata": {
        "colab": {
          "base_uri": "https://localhost:8080/"
        },
        "id": "u7xvQHnzkcnM",
        "outputId": "35d55089-71e6-4fdd-8978-5090f3e400cb"
      },
      "source": [
        "# modelando os dados\n",
        "regr.fit(train_x, train_y)"
      ],
      "execution_count": 15,
      "outputs": [
        {
          "output_type": "execute_result",
          "data": {
            "text/plain": [
              "LinearRegression(copy_X=True, fit_intercept=True, n_jobs=None, normalize=False)"
            ]
          },
          "metadata": {
            "tags": []
          },
          "execution_count": 15
        }
      ]
    },
    {
      "cell_type": "code",
      "metadata": {
        "colab": {
          "base_uri": "https://localhost:8080/"
        },
        "id": "qL0sR3vpkhi2",
        "outputId": "36792fa1-a34a-43f5-fc6c-4cf37f345001"
      },
      "source": [
        "# visualidando a e b\n",
        "print('Coefficient: ', np.squeeze(regr.coef_))\n",
        "print('Intercept: ', np.squeeze(regr.intercept_))"
      ],
      "execution_count": 17,
      "outputs": [
        {
          "output_type": "stream",
          "text": [
            "Coefficient:  38.843503112734176\n",
            "Intercept:  126.55576349882361\n"
          ],
          "name": "stdout"
        }
      ]
    },
    {
      "cell_type": "markdown",
      "metadata": {
        "id": "2BRFRkCDJgwi"
      },
      "source": [
        "Como já mencionado, os valores *a* e *b* da regressão linear simples são os parâmetros que modelam nossa reta. Como você viu acima, a biblioteca sklearn possui métodos implementados que nos possibilitam encontrar esses parâmetros diretamente dos dados.\n",
        "\n",
        "Vamos visualizar como nossa reta ficou:"
      ]
    },
    {
      "cell_type": "code",
      "metadata": {
        "colab": {
          "base_uri": "https://localhost:8080/",
          "height": 280
        },
        "id": "KcpGhGeqkxbM",
        "outputId": "e2d71c6c-8cdb-4746-becd-2746f1e8f8f4"
      },
      "source": [
        "# plotando linha encontrada\n",
        "coef = np.squeeze(regr.coef_)\n",
        "intercept = np.squeeze(regr.intercept_)\n",
        "\n",
        "plt.scatter(train.ENGINESIZE, train.CO2EMISSIONS, color = 'blue')\n",
        "plt.plot(train_x, coef * train_x + intercept, '-r')\n",
        "plt.xlabel(\"ENGINESIZE\")\n",
        "plt.ylabel(\"Emissions\")\n",
        "plt.show()"
      ],
      "execution_count": 26,
      "outputs": [
        {
          "output_type": "display_data",
          "data": {
            "image/png": "[encoded data removed]",
            "text/plain": [
              "<Figure size 432x288 with 1 Axes>"
            ]
          },
          "metadata": {
            "tags": [],
            "needs_background": "light"
          }
        }
      ]
    },
    {
      "cell_type": "markdown",
      "metadata": {
        "id": "xHQ6obK3KLJ5"
      },
      "source": [
        "# Avaliação\n",
        "\n",
        "Para avaliar o desempenho do nosso modelo utilizaremos os valores preditos e os valores reais para calcular sua acurácia.\n",
        "As métricas de avaliação tem um papel fundamental no desenvolvimento de um modelo, pois fornecem uma visão das áreas que requerem melhorias.\n",
        "\n",
        "No nosso exemplo, iremos utilizar o erro quadrado médio - *Mean Squared Error (MSE)*, mas saiba que existem diversas métricas e a escolha destas dependem do tipo do seu modelo, o tipo dos seus dados, domínio sobre o problema, etc.\n",
        "\n",
        "Uma rápida explicação a respeito da nossa métrica...\n",
        "- MSE: é a média do quadrado do erro. É uma métrica popular devido ao termo ao quadrado aumentar exponencialmente os erros maiores em comparação com os menores. (Podemos pensar que de certo modo essa métrica enfatiza os erros maiores).\n",
        "\n"
      ]
    },
    {
      "cell_type": "code",
      "metadata": {
        "id": "nbEhlDuelrZz"
      },
      "source": [
        "from sklearn.metrics import r2_score\n",
        "\n",
        "# recolhendo colunas para teste -> note que estamos recolhendo as colunas utilizadas no treinamento\n",
        "test_x = np.asanyarray(test[['ENGINESIZE']])\n",
        "test_y = np.asanyarray(test[['CO2EMISSIONS']])\n",
        "\n",
        "test_y_ = np.squeeze(regr.predict(test_x))"
      ],
      "execution_count": 19,
      "outputs": []
    },
    {
      "cell_type": "code",
      "metadata": {
        "colab": {
          "base_uri": "https://localhost:8080/"
        },
        "id": "SCgX7IvmmI25",
        "outputId": "81fdc8b3-a890-4a4d-dc4e-8c947c94ee18"
      },
      "source": [
        "print('Residual sum of squares (MSE): %.2f' % np.mean((test_y_ - test_y) ** 2))"
      ],
      "execution_count": 24,
      "outputs": [
        {
          "output_type": "stream",
          "text": [
            "Residual sum of squares (MSE): 7135.57\n"
          ],
          "name": "stdout"
        }
      ]
    },
    {
      "cell_type": "markdown",
      "metadata": {
        "id": "V0XySYBVm6NZ"
      },
      "source": [
        "# Predição\n",
        "\n",
        "Bom e como eu utilizo isso para predizer a emissão de CO$_2$ para novos carros baseado no tamanho do motor? Simples, basta substituir os valores de *a* (coef) e *b* (intercept) encontrados na nossa equação:\n",
        "\n",
        ">    $Y$ = $X*coef + intercept$"
      ]
    },
    {
      "cell_type": "code",
      "metadata": {
        "colab": {
          "base_uri": "https://localhost:8080/"
        },
        "id": "5QwaWFrinV11",
        "outputId": "528714b6-20e5-4b2f-e221-9d11a506812e"
      },
      "source": [
        "new_enginsize = 7\n",
        "\n",
        "Ŷ = coef * new_enginsize + intercept\n",
        "\n",
        "print('Predict value is %.2f' % Ŷ)"
      ],
      "execution_count": 35,
      "outputs": [
        {
          "output_type": "stream",
          "text": [
            "Predict value is 398.46\n"
          ],
          "name": "stdout"
        }
      ]
    },
    {
      "cell_type": "code",
      "metadata": {
        "colab": {
          "base_uri": "https://localhost:8080/",
          "height": 280
        },
        "id": "bhaPzksioHPI",
        "outputId": "97824d66-deed-45ba-e9ff-0963b70e374e"
      },
      "source": [
        "# visualzando valor predito\n",
        "plt.scatter(train.ENGINESIZE, train.CO2EMISSIONS, color = 'blue')\n",
        "plt.plot(train_x, coef * train_x + intercept, '-r')\n",
        "plt.xlabel(\"ENGINESIZE\")\n",
        "plt.ylabel(\"Emissions\")\n",
        "plt.plot(new_enginsize, Ŷ, 'ro') \n",
        "plt.show()"
      ],
      "execution_count": 36,
      "outputs": [
        {
          "output_type": "display_data",
          "data": {
            "image/png": "[encoded data removed]",
            "text/plain": [
              "<Figure size 432x288 with 1 Axes>"
            ]
          },
          "metadata": {
            "tags": [],
            "needs_background": "light"
          }
        }
      ]
    },
    {
      "cell_type": "markdown",
      "metadata": {
        "id": "bWkNCiYLovNI"
      },
      "source": [
        "Conteúdo inspirado no curso: *IBM ML0101EN\n",
        "Machine Learning with Python: A Practical Introduction*\n",
        "\n",
        "autor: Felipe Marcelo, estudante de graduação do curso de Informática Biomédica, USP-RP."
      ]
    }
  ]
}